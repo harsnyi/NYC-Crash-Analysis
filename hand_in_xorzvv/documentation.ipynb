{
 "cells": [
  {
   "cell_type": "markdown",
   "id": "584a6f0f-0118-49c6-8e01-ae26bcf4946d",
   "metadata": {},
   "source": [
    "# Adatelemzés és adatvizualizáció mérnököknek - BMEVIMIAV28 2024/25/1\n",
    "## Házifeladat Dokumentáció\n",
    "### Harsányi Zsolt - XORZVV - NYC Crash Analysis"
   ]
  },
  {
   "cell_type": "markdown",
   "id": "07a9331d-d869-4960-8d15-df60d0aa9b41",
   "metadata": {},
   "source": [
    "### Felhasznált adatkészletek"
   ]
  },
  {
   "cell_type": "markdown",
   "id": "9da1ed97-88c6-4c43-8bde-23a215d72d57",
   "metadata": {},
   "source": [
    "1. NYC Motor Vehicle Collisions\n",
    "2. NYC Weather - 2016 to 2022"
   ]
  },
  {
   "cell_type": "markdown",
   "id": "0fdcef0a-e4bb-4a09-9574-0ac9d4ec0d1a",
   "metadata": {},
   "source": [
    "Feladatként én egy Dashboard-ot készítettem amelynek Github linkje az alábbi címen érhető el:\n",
    "https://github.com/harsnyi/NYC-Crash-Analysis\n"
   ]
  },
  {
   "cell_type": "markdown",
   "id": "17445553-fbaa-4902-af12-077dd7f1fc2f",
   "metadata": {},
   "source": [
    "Emellett a zip-ben mindkét adatkészletből elérhető egy mintavételezett verzió (100 minta)"
   ]
  },
  {
   "cell_type": "markdown",
   "id": "76543563-a11d-4041-ad24-6e3e24019641",
   "metadata": {},
   "source": [
    "### 1. NYC Motor Vehicle Collisions"
   ]
  },
  {
   "cell_type": "code",
   "execution_count": 1,
   "id": "d010d395-ea5d-4548-86dd-98d850dcd9c8",
   "metadata": {},
   "outputs": [],
   "source": [
    "import pandas as pd\n",
    "df_crashed = pd.read_csv(\"NYC_motor_vehicle_collisions_sampled.csv\")"
   ]
  },
  {
   "cell_type": "markdown",
   "id": "f14dce08-30b0-47ea-a9f1-ed639f7e11e0",
   "metadata": {},
   "source": [
    "A df rengeteg üres Borough értéket tartalmazott, ami általában ha üres volt, akkor egy csomó minden más is üres volt a soron, emiatt ezeket a sorokat eldobtam."
   ]
  },
  {
   "cell_type": "code",
   "execution_count": 2,
   "id": "67cfcadd-f560-4e99-93e7-933d7f6771bd",
   "metadata": {},
   "outputs": [],
   "source": [
    "df_crashed = df_crashed[df_crashed[\"BOROUGH\"].notnull()]"
   ]
  },
  {
   "cell_type": "markdown",
   "id": "bdcc60a9-3547-461d-94c2-6ebf461cd489",
   "metadata": {},
   "source": [
    "Ezután létrehoztam pár segédoszlopot hogy könnyebben tudjak majd aggregálni stb..."
   ]
  },
  {
   "cell_type": "code",
   "execution_count": 3,
   "id": "25ada276-9e26-4477-95d7-4ac8063005a8",
   "metadata": {},
   "outputs": [],
   "source": [
    "df_crashed[\"CRASH DATE\"] = pd.to_datetime(df_crashed[\"CRASH DATE\"], format='%m/%d/%Y')"
   ]
  },
  {
   "cell_type": "code",
   "execution_count": 4,
   "id": "6b2f5c4f-8a21-4613-b556-e3dd2b921876",
   "metadata": {},
   "outputs": [],
   "source": [
    "df_crashed[\"CRASH TIME\"] = pd.to_datetime(df_crashed[\"CRASH TIME\"], format='%H:%M')"
   ]
  },
  {
   "cell_type": "code",
   "execution_count": 5,
   "id": "e299839a-56d6-438f-9056-26c234bc38d9",
   "metadata": {},
   "outputs": [],
   "source": [
    "df_crashed[\"HOUR\"] = df_crashed[\"CRASH TIME\"].dt.hour\n",
    "df_crashed[\"MINUTE\"] = df_crashed[\"CRASH TIME\"].dt.minute\n",
    "df_crashed['YEAR'] = df_crashed['CRASH DATE'].dt.year\n",
    "df_crashed['MONTH'] = df_crashed['CRASH DATE'].dt.month\n",
    "df_crashed['DAY'] = df_crashed['CRASH DATE'].dt.day"
   ]
  },
  {
   "cell_type": "code",
   "execution_count": 6,
   "id": "613c9127-5ec4-4534-bae3-c8ef1fbf8251",
   "metadata": {},
   "outputs": [],
   "source": [
    "df_crashed = df_crashed.drop(columns=['CRASH DATE', 'CRASH TIME'])"
   ]
  },
  {
   "cell_type": "markdown",
   "id": "59814738-667c-4a37-8c88-fb05dfd4d0f4",
   "metadata": {},
   "source": [
    "Utoljára eldobtam a 2012-es és 2024-es évet ugyanis ezek nem fednek le minden hónapot."
   ]
  },
  {
   "cell_type": "code",
   "execution_count": 7,
   "id": "c3b54221-ae43-47ec-b891-0d173bd4e61e",
   "metadata": {},
   "outputs": [],
   "source": [
    "df_crashed = df_crashed[df_crashed['YEAR'] != 2012]\n",
    "df_crashed = df_crashed[df_crashed['YEAR'] != 2024]"
   ]
  },
  {
   "cell_type": "markdown",
   "id": "8da0b9df-8686-4927-9ae5-7e3bd0ee9ae1",
   "metadata": {},
   "source": [
    "### 2. NYC Weather - 2016 to 2022"
   ]
  },
  {
   "cell_type": "markdown",
   "id": "11822e1f-a3a5-43f2-8a59-e80c15beceb9",
   "metadata": {},
   "source": [
    "Ezután importáltam a Weather adatkészletet amit utána illesztettem a másik adatkészlethez, a vizualizációk során pedig a kombinált adatkészletet használtam."
   ]
  },
  {
   "cell_type": "code",
   "execution_count": 8,
   "id": "93b72a40-97b6-4636-af3b-7f9314542c69",
   "metadata": {},
   "outputs": [],
   "source": [
    "df_weather = pd.read_csv(\"NYC_weather_sampled.csv\")"
   ]
  },
  {
   "cell_type": "code",
   "execution_count": 9,
   "id": "2f2d1d03-e6ad-45cc-b482-d35c18e88495",
   "metadata": {},
   "outputs": [],
   "source": [
    "df_weather['time'] = pd.to_datetime(df_weather['time'], errors='coerce')"
   ]
  },
  {
   "cell_type": "code",
   "execution_count": 10,
   "id": "29e8e475-4b61-47ec-8dad-04a3b8cb4204",
   "metadata": {},
   "outputs": [],
   "source": [
    "df_crashed['crash_time'] = pd.to_datetime(df_crashed[['YEAR', 'MONTH', 'DAY', 'HOUR']])"
   ]
  },
  {
   "cell_type": "code",
   "execution_count": 11,
   "id": "bbee64f6-5708-48af-8df3-79a5ddc63cf7",
   "metadata": {},
   "outputs": [],
   "source": [
    "df_weather = df_weather.sort_values('time')\n",
    "df_crashed = df_crashed.sort_values('crash_time')\n",
    "\n",
    "df_combined = pd.merge_asof(\n",
    "    df_crashed,\n",
    "    df_weather,\n",
    "    left_on='crash_time',\n",
    "    right_on='time',\n",
    "    direction='backward'\n",
    ")"
   ]
  },
  {
   "cell_type": "code",
   "execution_count": 12,
   "id": "d394ed57-6d22-4477-8c8b-e7f95d41312b",
   "metadata": {},
   "outputs": [
    {
     "data": {
      "text/html": [
       "<div>\n",
       "<style scoped>\n",
       "    .dataframe tbody tr th:only-of-type {\n",
       "        vertical-align: middle;\n",
       "    }\n",
       "\n",
       "    .dataframe tbody tr th {\n",
       "        vertical-align: top;\n",
       "    }\n",
       "\n",
       "    .dataframe thead th {\n",
       "        text-align: right;\n",
       "    }\n",
       "</style>\n",
       "<table border=\"1\" class=\"dataframe\">\n",
       "  <thead>\n",
       "    <tr style=\"text-align: right;\">\n",
       "      <th></th>\n",
       "      <th>Unnamed: 0_x</th>\n",
       "      <th>BOROUGH</th>\n",
       "      <th>ZIP CODE</th>\n",
       "      <th>LATITUDE</th>\n",
       "      <th>LONGITUDE</th>\n",
       "      <th>LOCATION</th>\n",
       "      <th>ON STREET NAME</th>\n",
       "      <th>CROSS STREET NAME</th>\n",
       "      <th>OFF STREET NAME</th>\n",
       "      <th>NUMBER OF PERSONS INJURED</th>\n",
       "      <th>...</th>\n",
       "      <th>time</th>\n",
       "      <th>temperature_2m (°C)</th>\n",
       "      <th>precipitation (mm)</th>\n",
       "      <th>rain (mm)</th>\n",
       "      <th>cloudcover (%)</th>\n",
       "      <th>cloudcover_low (%)</th>\n",
       "      <th>cloudcover_mid (%)</th>\n",
       "      <th>cloudcover_high (%)</th>\n",
       "      <th>windspeed_10m (km/h)</th>\n",
       "      <th>winddirection_10m (°)</th>\n",
       "    </tr>\n",
       "  </thead>\n",
       "  <tbody>\n",
       "    <tr>\n",
       "      <th>0</th>\n",
       "      <td>1804431</td>\n",
       "      <td>BROOKLYN</td>\n",
       "      <td>11221.0</td>\n",
       "      <td>40.699628</td>\n",
       "      <td>-73.923832</td>\n",
       "      <td>(40.699628, -73.9238321)</td>\n",
       "      <td>DE KALB AVENUE</td>\n",
       "      <td>WILSON AVENUE</td>\n",
       "      <td>NaN</td>\n",
       "      <td>0.0</td>\n",
       "      <td>...</td>\n",
       "      <td>NaT</td>\n",
       "      <td>NaN</td>\n",
       "      <td>NaN</td>\n",
       "      <td>NaN</td>\n",
       "      <td>NaN</td>\n",
       "      <td>NaN</td>\n",
       "      <td>NaN</td>\n",
       "      <td>NaN</td>\n",
       "      <td>NaN</td>\n",
       "      <td>NaN</td>\n",
       "    </tr>\n",
       "    <tr>\n",
       "      <th>1</th>\n",
       "      <td>1796863</td>\n",
       "      <td>QUEENS</td>\n",
       "      <td>11354.0</td>\n",
       "      <td>40.764350</td>\n",
       "      <td>-73.825943</td>\n",
       "      <td>(40.7643501, -73.8259432)</td>\n",
       "      <td>NORTHERN BOULEVARD</td>\n",
       "      <td>BOWNE STREET</td>\n",
       "      <td>NaN</td>\n",
       "      <td>0.0</td>\n",
       "      <td>...</td>\n",
       "      <td>NaT</td>\n",
       "      <td>NaN</td>\n",
       "      <td>NaN</td>\n",
       "      <td>NaN</td>\n",
       "      <td>NaN</td>\n",
       "      <td>NaN</td>\n",
       "      <td>NaN</td>\n",
       "      <td>NaN</td>\n",
       "      <td>NaN</td>\n",
       "      <td>NaN</td>\n",
       "    </tr>\n",
       "    <tr>\n",
       "      <th>2</th>\n",
       "      <td>1773403</td>\n",
       "      <td>BROOKLYN</td>\n",
       "      <td>11232.0</td>\n",
       "      <td>40.651834</td>\n",
       "      <td>-74.003326</td>\n",
       "      <td>(40.6518337, -74.0033264)</td>\n",
       "      <td>5 AVENUE</td>\n",
       "      <td>38 STREET</td>\n",
       "      <td>NaN</td>\n",
       "      <td>0.0</td>\n",
       "      <td>...</td>\n",
       "      <td>NaT</td>\n",
       "      <td>NaN</td>\n",
       "      <td>NaN</td>\n",
       "      <td>NaN</td>\n",
       "      <td>NaN</td>\n",
       "      <td>NaN</td>\n",
       "      <td>NaN</td>\n",
       "      <td>NaN</td>\n",
       "      <td>NaN</td>\n",
       "      <td>NaN</td>\n",
       "    </tr>\n",
       "    <tr>\n",
       "      <th>3</th>\n",
       "      <td>1653595</td>\n",
       "      <td>MANHATTAN</td>\n",
       "      <td>10024.0</td>\n",
       "      <td>40.784355</td>\n",
       "      <td>-73.981165</td>\n",
       "      <td>(40.7843547, -73.9811649)</td>\n",
       "      <td>WEST 79 STREET</td>\n",
       "      <td>WEST END AVENUE</td>\n",
       "      <td>NaN</td>\n",
       "      <td>0.0</td>\n",
       "      <td>...</td>\n",
       "      <td>NaT</td>\n",
       "      <td>NaN</td>\n",
       "      <td>NaN</td>\n",
       "      <td>NaN</td>\n",
       "      <td>NaN</td>\n",
       "      <td>NaN</td>\n",
       "      <td>NaN</td>\n",
       "      <td>NaN</td>\n",
       "      <td>NaN</td>\n",
       "      <td>NaN</td>\n",
       "    </tr>\n",
       "    <tr>\n",
       "      <th>4</th>\n",
       "      <td>1621547</td>\n",
       "      <td>MANHATTAN</td>\n",
       "      <td>10022.0</td>\n",
       "      <td>40.758308</td>\n",
       "      <td>-73.962926</td>\n",
       "      <td>(40.7583082, -73.9629257)</td>\n",
       "      <td>EAST 57 STREET</td>\n",
       "      <td>1 AVENUE</td>\n",
       "      <td>NaN</td>\n",
       "      <td>0.0</td>\n",
       "      <td>...</td>\n",
       "      <td>NaT</td>\n",
       "      <td>NaN</td>\n",
       "      <td>NaN</td>\n",
       "      <td>NaN</td>\n",
       "      <td>NaN</td>\n",
       "      <td>NaN</td>\n",
       "      <td>NaN</td>\n",
       "      <td>NaN</td>\n",
       "      <td>NaN</td>\n",
       "      <td>NaN</td>\n",
       "    </tr>\n",
       "  </tbody>\n",
       "</table>\n",
       "<p>5 rows × 45 columns</p>\n",
       "</div>"
      ],
      "text/plain": [
       "   Unnamed: 0_x    BOROUGH  ZIP CODE   LATITUDE  LONGITUDE  \\\n",
       "0       1804431   BROOKLYN   11221.0  40.699628 -73.923832   \n",
       "1       1796863     QUEENS   11354.0  40.764350 -73.825943   \n",
       "2       1773403   BROOKLYN   11232.0  40.651834 -74.003326   \n",
       "3       1653595  MANHATTAN   10024.0  40.784355 -73.981165   \n",
       "4       1621547  MANHATTAN   10022.0  40.758308 -73.962926   \n",
       "\n",
       "                    LOCATION                    ON STREET NAME  \\\n",
       "0   (40.699628, -73.9238321)  DE KALB AVENUE                     \n",
       "1  (40.7643501, -73.8259432)  NORTHERN BOULEVARD                 \n",
       "2  (40.6518337, -74.0033264)  5 AVENUE                           \n",
       "3  (40.7843547, -73.9811649)  WEST 79 STREET                     \n",
       "4  (40.7583082, -73.9629257)  EAST 57 STREET                     \n",
       "\n",
       "                  CROSS STREET NAME OFF STREET NAME  \\\n",
       "0  WILSON AVENUE                                NaN   \n",
       "1  BOWNE STREET                                 NaN   \n",
       "2  38 STREET                                    NaN   \n",
       "3  WEST END AVENUE                              NaN   \n",
       "4  1 AVENUE                                     NaN   \n",
       "\n",
       "   NUMBER OF PERSONS INJURED  ...  time  temperature_2m (°C)  \\\n",
       "0                        0.0  ...   NaT                  NaN   \n",
       "1                        0.0  ...   NaT                  NaN   \n",
       "2                        0.0  ...   NaT                  NaN   \n",
       "3                        0.0  ...   NaT                  NaN   \n",
       "4                        0.0  ...   NaT                  NaN   \n",
       "\n",
       "   precipitation (mm)  rain (mm)  cloudcover (%)  cloudcover_low (%)  \\\n",
       "0                 NaN        NaN             NaN                 NaN   \n",
       "1                 NaN        NaN             NaN                 NaN   \n",
       "2                 NaN        NaN             NaN                 NaN   \n",
       "3                 NaN        NaN             NaN                 NaN   \n",
       "4                 NaN        NaN             NaN                 NaN   \n",
       "\n",
       "   cloudcover_mid (%) cloudcover_high (%) windspeed_10m (km/h)  \\\n",
       "0                 NaN                 NaN                  NaN   \n",
       "1                 NaN                 NaN                  NaN   \n",
       "2                 NaN                 NaN                  NaN   \n",
       "3                 NaN                 NaN                  NaN   \n",
       "4                 NaN                 NaN                  NaN   \n",
       "\n",
       "  winddirection_10m (°)  \n",
       "0                   NaN  \n",
       "1                   NaN  \n",
       "2                   NaN  \n",
       "3                   NaN  \n",
       "4                   NaN  \n",
       "\n",
       "[5 rows x 45 columns]"
      ]
     },
     "execution_count": 12,
     "metadata": {},
     "output_type": "execute_result"
    }
   ],
   "source": [
    "df_combined.head()"
   ]
  },
  {
   "cell_type": "markdown",
   "id": "e7c9cdf5-6227-49fb-b784-ca688de05d18",
   "metadata": {},
   "source": [
    "## Dashboard"
   ]
  },
  {
   "cell_type": "markdown",
   "id": "4abd6240-2f74-419d-ae2c-c131afed89fa",
   "metadata": {},
   "source": [
    "Ezután kezdtem el dolgozni a Dashboard-on amit a Plotly segítségével fejlesztettem Python nyelven."
   ]
  },
  {
   "cell_type": "markdown",
   "id": "325fd25e-e806-40da-9730-339f355a8344",
   "metadata": {},
   "source": [
    "Itt az alábbi vizualizációkat készítettem:\n",
    "1. New York térkép amelyre minden évből lehet mintavételezni 1000 adatpontot: Ennek a lényege hogy könnyen értelmezhető vizualizációt adjon a New York-ban található városrészekről. A Latitude-ok alapján tettem fel a térképre az adatpontokat Geopandas segítségével.\n",
    "2. Incidensek eloszlása 24 órára bontva\n",
    "3. Incidensek eloszlása városi negyedekre bontva\n",
    "4. Járművek száma balesetek szerint\n",
    "5. Sérülések és halálesetek eloszlása városi negyedekre bontva\n",
    "6. Balesetek és lehullott csapadék szerinti összefüggés"
   ]
  },
  {
   "cell_type": "markdown",
   "id": "9b2946cb-57ff-49fb-974b-439ef7451615",
   "metadata": {},
   "source": [
    "### Megválaszolt kérdések\n",
    "- A Nap korai szakaszában jóval kevesebb incidens történt, mint a délutáni nyüzsgős időszakban\n",
    "- Az esetek majdnem harmada Brooklynban történt\n",
    "- Legtöbbször 2 autó ütközött\n",
    "- Elenyésző a haláleset a sebesülésekkel szemben\n",
    "- az ütközések úgy korrelálnak a csapadékmennyiséggel hogy egy bizonyos csapadékmennyiség fölött már jóval több ütközés volt."
   ]
  },
  {
   "cell_type": "code",
   "execution_count": null,
   "id": "75e840e4-da89-4ec7-a012-a103c67c0a9d",
   "metadata": {},
   "outputs": [],
   "source": []
  }
 ],
 "metadata": {
  "kernelspec": {
   "display_name": "Python 3 (ipykernel)",
   "language": "python",
   "name": "python3"
  },
  "language_info": {
   "codemirror_mode": {
    "name": "ipython",
    "version": 3
   },
   "file_extension": ".py",
   "mimetype": "text/x-python",
   "name": "python",
   "nbconvert_exporter": "python",
   "pygments_lexer": "ipython3",
   "version": "3.12.4"
  }
 },
 "nbformat": 4,
 "nbformat_minor": 5
}
