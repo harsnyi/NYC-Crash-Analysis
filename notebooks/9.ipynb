{
 "cells": [
  {
   "cell_type": "code",
   "execution_count": 1,
   "id": "bf99efc1-b8c3-4741-899c-eec21a7d84ee",
   "metadata": {},
   "outputs": [],
   "source": [
    "import pandas as pd"
   ]
  },
  {
   "cell_type": "code",
   "execution_count": 2,
   "id": "534cfac9-a415-4d1c-885b-1efb12a03ae5",
   "metadata": {},
   "outputs": [
    {
     "name": "stderr",
     "output_type": "stream",
     "text": [
      "/var/folders/tw/j102_3791q18mc8161tjddq00000gn/T/ipykernel_20097/4069927606.py:1: DtypeWarning: Columns (2,34) have mixed types. Specify dtype option on import or set low_memory=False.\n",
      "  df = pd.read_csv(\"/Users/harsnyi/Documents/NYC-Crash-Analysis/data/NYC_crashes_weather_combined.csv\")\n"
     ]
    }
   ],
   "source": [
    "df = pd.read_csv(\"/Users/harsnyi/Documents/NYC-Crash-Analysis/data/NYC_crashes_weather_combined.csv\")"
   ]
  },
  {
   "cell_type": "code",
   "execution_count": 4,
   "id": "703c0d3a-a2e4-4582-9561-9ed3cec3ce47",
   "metadata": {},
   "outputs": [
    {
     "data": {
      "text/plain": [
       "(1955319, 44)"
      ]
     },
     "execution_count": 4,
     "metadata": {},
     "output_type": "execute_result"
    }
   ],
   "source": [
    "df.shape"
   ]
  },
  {
   "cell_type": "code",
   "execution_count": 5,
   "id": "227b7973-d0cf-48bd-a45b-82107fb11067",
   "metadata": {},
   "outputs": [],
   "source": [
    "df = df[df[\"BOROUGH\"].notnull()]"
   ]
  },
  {
   "cell_type": "code",
   "execution_count": 6,
   "id": "770dab4f-a708-49c2-b097-e2244ee1c17d",
   "metadata": {},
   "outputs": [
    {
     "data": {
      "text/plain": [
       "(1338731, 44)"
      ]
     },
     "execution_count": 6,
     "metadata": {},
     "output_type": "execute_result"
    }
   ],
   "source": [
    "df.shape"
   ]
  },
  {
   "cell_type": "code",
   "execution_count": 7,
   "id": "d231ee75-c229-4496-9709-0911aa1039dd",
   "metadata": {},
   "outputs": [],
   "source": [
    "df.to_csv(\"/Users/harsnyi/Documents/NYC-Crash-Analysis/data/NYC_crashes_weather_combined.csv\")"
   ]
  },
  {
   "cell_type": "code",
   "execution_count": 8,
   "id": "9db40685-4272-4316-9a2c-81add9621e86",
   "metadata": {},
   "outputs": [],
   "source": [
    "df = pd.read_csv(\"/Users/harsnyi/Documents/NYC-Crash-Analysis/data/NYC_weather.csv\")"
   ]
  },
  {
   "cell_type": "code",
   "execution_count": 9,
   "id": "b2cc4170-d4ec-4da9-b60b-1391ea70accf",
   "metadata": {},
   "outputs": [],
   "source": [
    "df_sampled = df.sample(100)"
   ]
  },
  {
   "cell_type": "code",
   "execution_count": 10,
   "id": "872b6fd0-e98d-4e57-b1b1-896db8993d59",
   "metadata": {},
   "outputs": [],
   "source": [
    "df_sampled.to_csv(\"/Users/harsnyi/Documents/NYC-Crash-Analysis/data/NYC_weather_sampled.csv\")"
   ]
  },
  {
   "cell_type": "code",
   "execution_count": null,
   "id": "c1dd3d84-a292-49df-901b-3b3410572ac0",
   "metadata": {},
   "outputs": [],
   "source": []
  }
 ],
 "metadata": {
  "kernelspec": {
   "display_name": "Python 3 (ipykernel)",
   "language": "python",
   "name": "python3"
  },
  "language_info": {
   "codemirror_mode": {
    "name": "ipython",
    "version": 3
   },
   "file_extension": ".py",
   "mimetype": "text/x-python",
   "name": "python",
   "nbconvert_exporter": "python",
   "pygments_lexer": "ipython3",
   "version": "3.12.4"
  }
 },
 "nbformat": 4,
 "nbformat_minor": 5
}
