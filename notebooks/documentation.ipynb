{
 "cells": [
  {
   "cell_type": "markdown",
   "id": "584a6f0f-0118-49c6-8e01-ae26bcf4946d",
   "metadata": {},
   "source": [
    "# Adatelemzés és adatvizualizáció mérnököknek - BMEVIMIAV28 2024/25/1\n",
    "## Házifeladat Dokumentáció\n",
    "### Harsányi Zsolt - XORZVV - NYC Crash Analysis"
   ]
  },
  {
   "cell_type": "markdown",
   "id": "07a9331d-d869-4960-8d15-df60d0aa9b41",
   "metadata": {},
   "source": [
    "### Felhasznált adatkészletek"
   ]
  },
  {
   "cell_type": "markdown",
   "id": "9da1ed97-88c6-4c43-8bde-23a215d72d57",
   "metadata": {},
   "source": [
    "1. NYC Motor Vehicle Collisions\n",
    "2. NYC Weather - 2016 to 2022"
   ]
  },
  {
   "cell_type": "markdown",
   "id": "0fdcef0a-e4bb-4a09-9574-0ac9d4ec0d1a",
   "metadata": {},
   "source": [
    "Feladatként én egy Dashboard-ot készítettem amelynek Github linkje az alábbi címen érhető el:\n",
    "https://github.com/harsnyi/NYC-Crash-Analysis\n"
   ]
  },
  {
   "cell_type": "markdown",
   "id": "17445553-fbaa-4902-af12-077dd7f1fc2f",
   "metadata": {},
   "source": [
    "Emellett a zip-ben mindkét adatkészletből elérhető egy mintavételezett verzió (100 minta)"
   ]
  },
  {
   "cell_type": "markdown",
   "id": "76543563-a11d-4041-ad24-6e3e24019641",
   "metadata": {},
   "source": [
    "### 1. NYC Motor Vehicle Collisions"
   ]
  },
  {
   "cell_type": "code",
   "execution_count": 5,
   "id": "d010d395-ea5d-4548-86dd-98d850dcd9c8",
   "metadata": {},
   "outputs": [],
   "source": [
    "import pandas as pd\n",
    "df_crashed = pd.read_csv(\"\")"
   ]
  },
  {
   "cell_type": "code",
   "execution_count": null,
   "id": "2d363eaf-8f8b-49f2-bfe3-d4d2f09f4044",
   "metadata": {},
   "outputs": [],
   "source": []
  },
  {
   "cell_type": "code",
   "execution_count": null,
   "id": "b07bf5ff-f419-442c-8594-ec549837164e",
   "metadata": {},
   "outputs": [],
   "source": []
  }
 ],
 "metadata": {
  "kernelspec": {
   "display_name": "Python 3 (ipykernel)",
   "language": "python",
   "name": "python3"
  },
  "language_info": {
   "codemirror_mode": {
    "name": "ipython",
    "version": 3
   },
   "file_extension": ".py",
   "mimetype": "text/x-python",
   "name": "python",
   "nbconvert_exporter": "python",
   "pygments_lexer": "ipython3",
   "version": "3.12.4"
  }
 },
 "nbformat": 4,
 "nbformat_minor": 5
}
